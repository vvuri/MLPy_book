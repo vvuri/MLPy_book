{
 "cells": [
  {
   "cell_type": "markdown",
   "metadata": {},
   "source": [
    "Книга ML Python Пример 0"
   ]
  },
  {
   "cell_type": "code",
   "execution_count": 3,
   "metadata": {
    "collapsed": false
   },
   "outputs": [
    {
     "name": "stdout",
     "output_type": "stream",
     "text": [
      "версия Python: 2.7.12 |Continuum Analytics, Inc.| (default, Jul  2 2016, 17:42:40) \n",
      "[GCC 4.4.7 20120313 (Red Hat 4.4.7-1)]\n",
      "версия pandas: 0.19.2\n",
      "версия matplotlib: 1.5.3\n",
      "версия NumPy: 1.11.3\n",
      "версия SciPy: 0.18.1\n",
      "версия IPython: 5.1.0\n",
      "версия scikit-learn: 0.18.1\n"
     ]
    }
   ],
   "source": [
    "import sys\n",
    "print(\"версия Python: {}\".format(sys.version))\n",
    "\n",
    "import pandas as pd\n",
    "print(\"версия pandas: {}\".format(pd.__version__))\n",
    "\n",
    "import matplotlib\n",
    "print(\"версия matplotlib: {}\".format(matplotlib.__version__))\n",
    "\n",
    "import numpy as np\n",
    "print(\"версия NumPy: {}\".format(np.__version__))\n",
    "\n",
    "import scipy as sp\n",
    "print(\"версия SciPy: {}\".format(sp.__version__))\n",
    "\n",
    "import IPython\n",
    "print(\"версия IPython: {}\".format(IPython.__version__))\n",
    "\n",
    "import sklearn\n",
    "print(\"версия scikit-learn: {}\".format(sklearn.__version__))"
   ]
  },
  {
   "cell_type": "code",
   "execution_count": 1,
   "metadata": {
    "collapsed": false
   },
   "outputs": [
    {
     "name": "stdout",
     "output_type": "stream",
     "text": [
      "Requirement already satisfied: mglearn in /home/vvuri/miniconda2/lib/python2.7/site-packages\r\n",
      "Requirement already satisfied: pandas in /home/vvuri/miniconda2/lib/python2.7/site-packages (from mglearn)\r\n",
      "Requirement already satisfied: cycler in /home/vvuri/miniconda2/lib/python2.7/site-packages (from mglearn)\r\n",
      "Requirement already satisfied: numpy in /home/vvuri/miniconda2/lib/python2.7/site-packages (from mglearn)\r\n",
      "Requirement already satisfied: matplotlib in /home/vvuri/miniconda2/lib/python2.7/site-packages (from mglearn)\r\n",
      "Requirement already satisfied: scikit-learn in /home/vvuri/miniconda2/lib/python2.7/site-packages (from mglearn)\r\n",
      "Requirement already satisfied: pillow in /home/vvuri/miniconda2/lib/python2.7/site-packages (from mglearn)\r\n",
      "Requirement already satisfied: python-dateutil in /home/vvuri/miniconda2/lib/python2.7/site-packages (from pandas->mglearn)\r\n",
      "Requirement already satisfied: pytz>=2011k in /home/vvuri/miniconda2/lib/python2.7/site-packages (from pandas->mglearn)\r\n",
      "Requirement already satisfied: six in /home/vvuri/miniconda2/lib/python2.7/site-packages (from cycler->mglearn)\r\n",
      "Requirement already satisfied: pyparsing!=2.0.4,!=2.1.2,>=1.5.6 in /home/vvuri/miniconda2/lib/python2.7/site-packages (from matplotlib->mglearn)\r\n",
      "Requirement already satisfied: olefile in /home/vvuri/miniconda2/lib/python2.7/site-packages (from pillow->mglearn)\r\n"
     ]
    }
   ],
   "source": [
    "!pip install mglearn"
   ]
  },
  {
   "cell_type": "code",
   "execution_count": 2,
   "metadata": {
    "collapsed": false
   },
   "outputs": [
    {
     "name": "stdout",
     "output_type": "stream",
     "text": [
      "Requirement already satisfied: pandas in /home/vvuri/miniconda2/lib/python2.7/site-packages\r\n",
      "Requirement already satisfied: python-dateutil in /home/vvuri/miniconda2/lib/python2.7/site-packages (from pandas)\r\n",
      "Requirement already satisfied: pytz>=2011k in /home/vvuri/miniconda2/lib/python2.7/site-packages (from pandas)\r\n",
      "Requirement already satisfied: numpy>=1.7.0 in /home/vvuri/miniconda2/lib/python2.7/site-packages (from pandas)\r\n",
      "Requirement already satisfied: six>=1.5 in /home/vvuri/miniconda2/lib/python2.7/site-packages (from python-dateutil->pandas)\r\n"
     ]
    }
   ],
   "source": [
    "!pip install pandas"
   ]
  }
 ],
 "metadata": {
  "anaconda-cloud": {},
  "kernelspec": {
   "display_name": "Python [conda root]",
   "language": "python",
   "name": "conda-root-py"
  },
  "language_info": {
   "codemirror_mode": {
    "name": "ipython",
    "version": 2
   },
   "file_extension": ".py",
   "mimetype": "text/x-python",
   "name": "python",
   "nbconvert_exporter": "python",
   "pygments_lexer": "ipython2",
   "version": "2.7.12"
  }
 },
 "nbformat": 4,
 "nbformat_minor": 2
}
